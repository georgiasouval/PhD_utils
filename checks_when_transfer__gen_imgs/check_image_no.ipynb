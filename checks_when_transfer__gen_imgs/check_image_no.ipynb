{
 "cells": [
  {
   "cell_type": "code",
   "execution_count": 2,
   "metadata": {},
   "outputs": [
    {
     "name": "stdout",
     "output_type": "stream",
     "text": [
      "All corresponding subfolders contain the same number of files.\n"
     ]
    }
   ],
   "source": [
    "import os\n",
    "\n",
    "# Base path where your datasets are stored\n",
    "base_path = \"/home/souval_g_WMGDS.WMG.WARWICK.AC.UK/Desktop\"\n",
    "\n",
    "# Dataset folder names\n",
    "datasets = [f\"dataset{i}\" for i in (36,37)]\n",
    "\n",
    "# Subfolders to check\n",
    "subfolders = [\n",
    "    os.path.join(\"day\", \"train\"),\n",
    "    os.path.join(\"day\", \"test\"),\n",
    "    os.path.join(\"day\", \"val\"),\n",
    "    os.path.join(\"night\", \"train\"),\n",
    "    os.path.join(\"night\", \"test\"),\n",
    "    os.path.join(\"night\", \"val\"),\n",
    "]\n",
    "\n",
    "# Dictionary to store file counts for comparison\n",
    "file_counts = {subfolder: [] for subfolder in subfolders}\n",
    "\n",
    "# Check each dataset\n",
    "for dataset in datasets:\n",
    "    dataset_path = os.path.join(base_path, dataset)\n",
    "    for subfolder in subfolders:\n",
    "        folder_path = os.path.join(dataset_path,  subfolder)\n",
    "        if os.path.exists(folder_path):\n",
    "            file_count = len([f for f in os.listdir(folder_path) if os.path.isfile(os.path.join(folder_path, f))])\n",
    "            file_counts[subfolder].append(file_count)\n",
    "        else:\n",
    "            print(f\"Warning: {folder_path} does not exist!\")\n",
    "\n",
    "# Verify if all counts are consistent\n",
    "all_consistent = True\n",
    "for subfolder, counts in file_counts.items():\n",
    "    if len(set(counts)) > 1:\n",
    "        all_consistent = False\n",
    "        print(f\"Inconsistent file counts in '{subfolder}': {counts}\")\n",
    "\n",
    "if all_consistent:\n",
    "    print(\"All corresponding subfolders contain the same number of files.\")\n"
   ]
  },
  {
   "cell_type": "code",
   "execution_count": 4,
   "metadata": {},
   "outputs": [
    {
     "name": "stdout",
     "output_type": "stream",
     "text": [
      "Number of files in '/home/souval_g_WMGDS.WMG.WARWICK.AC.UK/Desktop/dataset37/day/train': 2837\n",
      "Number of files in '/home/souval_g_WMGDS.WMG.WARWICK.AC.UK/Desktop/dataset37/day/test': 609\n",
      "Number of files in '/home/souval_g_WMGDS.WMG.WARWICK.AC.UK/Desktop/dataset37/day/val': 607\n",
      "Number of files in '/home/souval_g_WMGDS.WMG.WARWICK.AC.UK/Desktop/dataset37/night/train': 8417\n",
      "Number of files in '/home/souval_g_WMGDS.WMG.WARWICK.AC.UK/Desktop/dataset37/night/test': 1805\n",
      "Number of files in '/home/souval_g_WMGDS.WMG.WARWICK.AC.UK/Desktop/dataset37/night/val': 1803\n",
      "All corresponding subfolders contain the same number of files.\n"
     ]
    }
   ],
   "source": [
    "import os\n",
    "\n",
    "# Base path where your datasets are stored\n",
    "base_path = \"/home/souval_g_WMGDS.WMG.WARWICK.AC.UK/Desktop\"\n",
    "\n",
    "# Dataset folder name (dataset20 in this case)\n",
    "dataset = \"dataset37\"\n",
    "\n",
    "# Subfolders to check\n",
    "subfolders = [\n",
    "    os.path.join(\"day\", \"train\"),\n",
    "    os.path.join(\"day\", \"test\"),\n",
    "    os.path.join(\"day\", \"val\"),\n",
    "    os.path.join(\"night\", \"train\"),\n",
    "    os.path.join(\"night\", \"test\"),\n",
    "    os.path.join(\"night\", \"val\"),\n",
    "]\n",
    "\n",
    "# Dictionary to store file counts for comparison\n",
    "file_counts = {subfolder: [] for subfolder in subfolders}\n",
    "\n",
    "# Check each subfolder within dataset20\n",
    "dataset_path = os.path.join(base_path, dataset)\n",
    "for subfolder in subfolders:\n",
    "    folder_path = os.path.join(dataset_path,  subfolder)\n",
    "    if os.path.exists(folder_path):\n",
    "        file_count = len([f for f in os.listdir(folder_path) if os.path.isfile(os.path.join(folder_path, f))])\n",
    "        file_counts[subfolder].append(file_count)\n",
    "        print(f\"Number of files in '{folder_path}': {file_count}\")\n",
    "    else:\n",
    "        print(f\"Warning: {folder_path} does not exist!\")\n",
    "\n",
    "# Verify if all counts are consistent\n",
    "all_consistent = True\n",
    "for subfolder, counts in file_counts.items():\n",
    "    if len(set(counts)) > 1:\n",
    "        all_consistent = False\n",
    "        print(f\"Inconsistent file counts in '{subfolder}': {counts}\")\n",
    "\n",
    "if all_consistent:\n",
    "    print(\"All corresponding subfolders contain the same number of files.\")\n"
   ]
  }
 ],
 "metadata": {
  "kernelspec": {
   "display_name": "yolo_day",
   "language": "python",
   "name": "python3"
  },
  "language_info": {
   "codemirror_mode": {
    "name": "ipython",
    "version": 3
   },
   "file_extension": ".py",
   "mimetype": "text/x-python",
   "name": "python",
   "nbconvert_exporter": "python",
   "pygments_lexer": "ipython3",
   "version": "3.10.15"
  }
 },
 "nbformat": 4,
 "nbformat_minor": 2
}
